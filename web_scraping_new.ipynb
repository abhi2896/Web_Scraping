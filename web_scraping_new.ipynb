{
 "cells": [
  {
   "cell_type": "code",
   "execution_count": 57,
   "metadata": {},
   "outputs": [],
   "source": [
    "#https://selenium-python.readthedocs.io/ document\n",
    "#https://medium.com/ml-book/web-scraping-using-selenium-python-3be7b8762747"
   ]
  },
  {
   "cell_type": "code",
   "execution_count": 1,
   "metadata": {},
   "outputs": [
    {
     "name": "stderr",
     "output_type": "stream",
     "text": [
      "<ipython-input-1-62d698d4e88f>:4: DeprecationWarning: executable_path has been deprecated, please pass in a Service object\n",
      "  webD = webdriver.Chrome('chromedriver.exe')\n"
     ]
    }
   ],
   "source": [
    "#step1 go to a particular page \n",
    "import selenium\n",
    "from selenium import webdriver \n",
    "webD = webdriver.Chrome('chromedriver.exe')\n",
    "webD.get(\"https://webscraper.io/test-sites/e-commerce/static\")"
   ]
  },
  {
   "cell_type": "code",
   "execution_count": 59,
   "metadata": {},
   "outputs": [],
   "source": [
    "#clickobj = webD.find_element_by_xpath('//*[@id=\"side-menu\"]/li[2]/a') # clicked on computer and inspect just get the address"
   ]
  },
  {
   "cell_type": "code",
   "execution_count": 60,
   "metadata": {},
   "outputs": [],
   "source": [
    "#clickobj.click()  # clickobj have click method ,text ,etc , here it will click on computer"
   ]
  },
  {
   "cell_type": "code",
   "execution_count": 61,
   "metadata": {},
   "outputs": [],
   "source": [
    "#webD.find_element_by_xpath('//*[@id=\"navbar\"]/ul/li[7]/a').click()"
   ]
  },
  {
   "cell_type": "code",
   "execution_count": 62,
   "metadata": {},
   "outputs": [],
   "source": [
    "#webD.find_element_by_xpath('//*[@id=\"username_id\"]').click()"
   ]
  },
  {
   "cell_type": "code",
   "execution_count": 4,
   "metadata": {},
   "outputs": [
    {
     "name": "stderr",
     "output_type": "stream",
     "text": [
      "<ipython-input-4-7f73020c04e7>:1: DeprecationWarning: find_element_by_link_text is deprecated. Please use find_element(by=By.LINK_TEXT, value=link_text) instead\n",
      "  log_in_link = webD.find_element_by_link_text('Login') # kis name s avilable h ,find login button name should be same\n"
     ]
    }
   ],
   "source": [
    "log_in_link = webD.find_element_by_link_text('Login') # kis name s avilable h ,find login button name should be same \n",
    "log_in_link.click()"
   ]
  },
  {
   "cell_type": "code",
   "execution_count": 5,
   "metadata": {},
   "outputs": [],
   "source": [
    "from selenium.webdriver.support.ui import WebDriverWait\n",
    "from selenium.webdriver.support import expected_conditions as EC\n",
    "from selenium.webdriver.common.by import By"
   ]
  },
  {
   "cell_type": "code",
   "execution_count": 6,
   "metadata": {},
   "outputs": [
    {
     "data": {
      "text/plain": [
       "\"\\nusername = WebDriverWait(webD, 10).until(EC.element_to_be_clickable((By.ID, 'user_id')))\\npassword = WebDriverWait(webD, 10).until(EC.element_to_be_clickable((By.ID, 'password_id')))\\nusername.send_keys(os.getenv('abi.verma96@gmail.com'))\\npassword.send_keys(os.getenv('@bhi2896SHEK')) \""
      ]
     },
     "execution_count": 6,
     "metadata": {},
     "output_type": "execute_result"
    }
   ],
   "source": [
    "'''\n",
    "username = WebDriverWait(webD, 10).until(EC.element_to_be_clickable((By.ID, 'user_id')))\n",
    "password = WebDriverWait(webD, 10).until(EC.element_to_be_clickable((By.ID, 'password_id')))\n",
    "username.send_keys(os.getenv('abi.verma96@gmail.com'))\n",
    "password.send_keys(os.getenv('@bhi2896SHEK')) '''"
   ]
  },
  {
   "cell_type": "code",
   "execution_count": 7,
   "metadata": {},
   "outputs": [
    {
     "name": "stderr",
     "output_type": "stream",
     "text": [
      "<ipython-input-7-632ce7c08cc3>:2: DeprecationWarning: find_element_by_* commands are deprecated. Please use find_element() instead\n",
      "  username = webD.find_element_by_id('username_id')\n",
      "<ipython-input-7-632ce7c08cc3>:6: DeprecationWarning: find_element_by_* commands are deprecated. Please use find_element() instead\n",
      "  password = webD.find_element_by_id('password_id')\n"
     ]
    }
   ],
   "source": [
    "#enter user name\n",
    "username = webD.find_element_by_id('username_id')\n",
    "username.click()\n",
    "username.send_keys('Enter id here')\n",
    "#enter password\n",
    "password = webD.find_element_by_id('password_id') \n",
    "password.click() \n",
    "password.send_keys('enterpassword here')"
   ]
  },
  {
   "cell_type": "code",
   "execution_count": 8,
   "metadata": {},
   "outputs": [
    {
     "name": "stderr",
     "output_type": "stream",
     "text": [
      "<ipython-input-8-97d4d29e0f9e>:1: DeprecationWarning: find_element_by_xpath is deprecated. Please use find_element(by=By.XPATH, value=xpath) instead\n",
      "  webD.find_element_by_xpath('/html/body/div[1]/div[2]/form/div[4]/input').click()\n"
     ]
    },
    {
     "ename": "NameError",
     "evalue": "name 'time' is not defined",
     "output_type": "error",
     "traceback": [
      "\u001b[1;31m---------------------------------------------------------------------------\u001b[0m",
      "\u001b[1;31mNameError\u001b[0m                                 Traceback (most recent call last)",
      "\u001b[1;32m<ipython-input-8-97d4d29e0f9e>\u001b[0m in \u001b[0;36m<module>\u001b[1;34m\u001b[0m\n\u001b[0;32m      1\u001b[0m \u001b[0mwebD\u001b[0m\u001b[1;33m.\u001b[0m\u001b[0mfind_element_by_xpath\u001b[0m\u001b[1;33m(\u001b[0m\u001b[1;34m'/html/body/div[1]/div[2]/form/div[4]/input'\u001b[0m\u001b[1;33m)\u001b[0m\u001b[1;33m.\u001b[0m\u001b[0mclick\u001b[0m\u001b[1;33m(\u001b[0m\u001b[1;33m)\u001b[0m\u001b[1;33m\u001b[0m\u001b[1;33m\u001b[0m\u001b[0m\n\u001b[1;32m----> 2\u001b[1;33m \u001b[0mtime\u001b[0m\u001b[1;33m.\u001b[0m\u001b[0msleep\u001b[0m\u001b[1;33m(\u001b[0m\u001b[1;36m2\u001b[0m\u001b[1;33m)\u001b[0m\u001b[1;33m\u001b[0m\u001b[1;33m\u001b[0m\u001b[0m\n\u001b[0m",
      "\u001b[1;31mNameError\u001b[0m: name 'time' is not defined"
     ]
    }
   ],
   "source": [
    "webD.find_element_by_xpath('/html/body/div[1]/div[2]/form/div[4]/input').click()\n",
    "time.sleep(2)"
   ]
  },
  {
   "cell_type": "code",
   "execution_count": null,
   "metadata": {},
   "outputs": [],
   "source": []
  }
 ],
 "metadata": {
  "kernelspec": {
   "display_name": "Python 3",
   "language": "python",
   "name": "python3"
  },
  "language_info": {
   "codemirror_mode": {
    "name": "ipython",
    "version": 3
   },
   "file_extension": ".py",
   "mimetype": "text/x-python",
   "name": "python",
   "nbconvert_exporter": "python",
   "pygments_lexer": "ipython3",
   "version": "3.8.3"
  }
 },
 "nbformat": 4,
 "nbformat_minor": 4
}
